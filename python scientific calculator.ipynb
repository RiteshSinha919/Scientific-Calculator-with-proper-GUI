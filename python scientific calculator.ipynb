{
 "cells": [
  {
   "cell_type": "code",
   "execution_count": 111,
   "id": "751514de",
   "metadata": {},
   "outputs": [],
   "source": [
    "from tkinter import * \n",
    "import tkinter as tk\n",
    "from math import *"
   ]
  },
  {
   "cell_type": "code",
   "execution_count": 112,
   "id": "187d1533",
   "metadata": {},
   "outputs": [],
   "source": [
    "#setting the framesize for tkinter\n",
    "calc = Tk()\n",
    "calc.geometry(\"850x478\")\n",
    "calc.title(\"calculator\")\n",
    "\n",
    "expression = \"\""
   ]
  },
  {
   "cell_type": "code",
   "execution_count": 113,
   "id": "3e3254f8",
   "metadata": {},
   "outputs": [],
   "source": [
    "#function for value entry on calculator display\n",
    "def entry(num):\n",
    "    global expression\n",
    "    expression = expression + str(num)\n",
    "    equation.set(expression)"
   ]
  },
  {
   "cell_type": "code",
   "execution_count": 114,
   "id": "c0ef95af",
   "metadata": {},
   "outputs": [],
   "source": [
    "#function for 'clr' button\n",
    "def clear():\n",
    "    global expression\n",
    "    expression = \"\"\n",
    "    equation.set(\"\")"
   ]
  },
  {
   "cell_type": "code",
   "execution_count": 115,
   "id": "08ffd0cf",
   "metadata": {},
   "outputs": [],
   "source": [
    "#function for '='\n",
    "def equal():\n",
    "    try:\n",
    "        global expression\n",
    "        result  = str(eval(expression))\n",
    "        equation.set(result)\n",
    "        expression = \" \"\n",
    "    except: \n",
    "        equation.set( \"error\")\n",
    "        expression = \" \""
   ]
  },
  {
   "cell_type": "code",
   "execution_count": 116,
   "id": "8d366367",
   "metadata": {},
   "outputs": [],
   "source": [
    "equation = StringVar()\n",
    "inp_frame = Frame(calc)\n",
    "inp_frame.pack(side = TOP)\n",
    "inp_entry = Entry(inp_frame, textvariable = equation, width = 65,justify=RIGHT,font=('calibri',16,'bold'))\n",
    "inp_entry.grid(row = 0,column = 0)\n",
    "inp_entry.pack(ipady = 25)"
   ]
  },
  {
   "cell_type": "code",
   "execution_count": 117,
   "id": "9dc3d6c6",
   "metadata": {},
   "outputs": [],
   "source": [
    "btn_frame = Frame(calc)\n",
    "btn_frame.pack()"
   ]
  },
  {
   "cell_type": "code",
   "execution_count": 118,
   "id": "f7ebd8b3",
   "metadata": {},
   "outputs": [],
   "source": [
    "#setting the functionality for each button\n",
    "nine = Button(btn_frame, text= '9', width = 8, height = 2, fg = 'black', bg = 'grey89', command = lambda: entry(9),font=('calibri',14,'bold'))\n",
    "eight = Button(btn_frame, text= '8', width = 8, height = 2, fg = 'black', bg = 'grey89', command = lambda: entry(8),font=('calibri',14,'bold'))\n",
    "seven = Button(btn_frame, text= '7', width = 8, height = 2, fg = 'black', bg = 'grey89', command = lambda: entry(7),font=('calibri',14,'bold'))\n",
    "six = Button(btn_frame, text= '6', width = 8, height = 2, fg = 'black', bg = 'grey89', command = lambda: entry(6),font=('calibri',14,'bold'))\n",
    "five = Button(btn_frame, text= '5', width = 8, height = 2, fg = 'black', bg = 'grey89', command = lambda: entry(5),font=('calibri',14,'bold'))\n",
    "four = Button(btn_frame, text= '4', width = 8, height = 2, fg = 'black', bg = 'grey89', command = lambda: entry(4),font=('calibri',14,'bold'))\n",
    "three = Button(btn_frame, text= '3', width = 8, height = 2, fg = 'black', bg = 'grey89', command = lambda: entry(3),font=('calibri',14,'bold'))\n",
    "two = Button(btn_frame, text= '2', width = 8, height = 2, fg = 'black', bg = 'grey89', command = lambda: entry(2),font=('calibri',14,'bold'))\n",
    "one = Button(btn_frame, text= '1', width = 8, height = 2, fg = 'black', bg = 'grey89', command = lambda: entry(1),font=('calibri',14,'bold'))\n",
    "zero = Button(btn_frame, text= '0', width = 8, height = 2, fg = 'black', bg = 'grey89', command = lambda: entry(0),font=('calibri',14,'bold'))\n",
    "dzero = Button(btn_frame, text= '00', width = 8, height = 2, fg = 'black', bg = 'grey89', command = lambda: entry(00),font=('calibri',14,'bold'))\n",
    "add = Button(btn_frame, text= '+', width = 8, height = 2, fg = 'black', bg = 'grey89',  command = lambda: entry('+'),font=('calibri',14,'bold'))\n",
    "sub = Button(btn_frame, text= '-', width = 8, height = 2, fg = 'black', bg = 'grey89', command = lambda: entry('-'),font=('calibri',14,'bold'))\n",
    "mul= Button(btn_frame, text= '*', width = 8, height = 2, fg = 'black', bg = 'grey89', command = lambda: entry('*'),font=('calibri',14,'bold'))\n",
    "div = Button(btn_frame, text= '/', width = 8, height = 2, fg = 'black', bg = 'grey89', command = lambda: entry('/'),font=('calibri',14,'bold'))\n",
    "clear = Button(btn_frame, text= 'Clear', width = 8, height = 2, fg = 'black', bg = 'grey89',command=clear,font=('calibri',14,'bold'))\n",
    "dele = Button(btn_frame, text = \"Pi\", width = 8, height = 2, fg = 'black', bg = 'grey89',command= lambda: entry('pi'),font=('calibri',14,'bold'))\n",
    "dot = Button(btn_frame, text= '.', width = 8, height = 2, fg = 'black', bg = 'grey89', command = lambda: entry('.'),font=('calibri',14,'bold'))\n",
    "sin_but = Button(btn_frame, text= 'sin', width = 8, height = 2, fg = 'black', bg = 'grey89',command = lambda: entry(\"sin(\"),font=('calibri',14,'bold'))\n",
    "cos_but = Button(btn_frame, text= 'cos', width = 8, height = 2, fg = 'black', bg = 'grey89', command = lambda: entry('cos('),font=('calibri',14,'bold'))\n",
    "tan_but = Button(btn_frame, text= 'tan', width = 8, height = 2, fg = 'black', bg = 'grey89', command = lambda: entry('tan('),font=('calibri',14,'bold'))\n",
    "asin_but = Button(btn_frame, text= 'asin', width = 8, height = 2, fg = 'black', bg = 'grey89', command = lambda: entry('asin('),font=('calibri',14,'bold'))\n",
    "acos_but = Button(btn_frame, text= 'acos', width = 8, height = 2, fg = 'black', bg = 'grey89', command = lambda: entry('acos('),font=('calibri',14,'bold'))\n",
    "atan_but = Button(btn_frame, text= 'atan', width = 8, height = 2, fg = 'black', bg = 'grey89', command = lambda: entry('atan('),font=('calibri',14,'bold'))\n",
    "perct = Button(btn_frame, text= '%', width = 8, height = 2, fg = 'black', bg = 'grey89', command = lambda: entry('%'),font=('calibri',14,'bold'))\n",
    "sinh_but = Button(btn_frame, text= 'sinh', width = 8, height = 2, fg = 'black', bg = 'grey89', command = lambda: entry('sinh('),font=('calibri',14,'bold'))\n",
    "cosh_but = Button(btn_frame, text= 'cosh', width = 8, height = 2, fg = 'black', bg = 'grey89', command = lambda: entry('cosh('),font=('calibri',14,'bold'))\n",
    "tanh_but = Button(btn_frame, text= 'tanh', width = 8, height = 2, fg = 'black', bg = 'grey89', command = lambda: entry('tanh('),font=('calibri',14,'bold'))\n",
    "ceil_but = Button(btn_frame, text= 'ceil', width = 8, height = 2, fg = 'black', bg = 'grey89', command = lambda: entry('ceil('),font=('calibri',14,'bold'))\n",
    "floor_but = Button(btn_frame, text= 'floor', width = 8, height = 2, fg = 'black', bg = 'grey89', command = lambda: entry('floor('),font=('calibri',14,'bold'))\n",
    "radian_but = Button(btn_frame, text= 'radian', width = 8, height = 2, fg = 'black', bg = 'grey89', command = lambda: entry('radians('),font=('calibri',14,'bold'))\n",
    "degree_but = Button(btn_frame, text= 'degree', width = 8, height = 2, fg = 'black', bg = 'grey89', command = lambda: entry('degrees('),font=('calibri',14,'bold'))\n",
    "log10_but = Button(btn_frame, text= 'log10', width = 8, height = 2, fg = 'black', bg = 'grey89', command = lambda: entry('log10('),font=('calibri',14,'bold'))\n",
    "lbrace = Button(btn_frame, text= '(', width = 8, height = 2, fg = 'black', bg = 'grey89', command = lambda: entry('('),font=('calibri',14,'bold'))\n",
    "rbrace = Button(btn_frame, text= ')', width = 8, height = 2, fg = 'black', bg = 'grey89', command = lambda: entry(')'),font=('calibri',14,'bold'))\n",
    "expo = Button(btn_frame, text= 'EXP', width = 8, height = 2, fg = 'black', bg = 'grey89', command = lambda: entry('**'),font=('calibri',14,'bold'))\n",
    "log_but = Button(btn_frame, text= 'log', width = 8, height = 2, fg = 'black', bg = 'grey89', command = lambda: entry('log('),font=('calibri',14,'bold'))\n",
    "sqrt_but = Button(btn_frame, text= 'sqrt', width = 8, height = 2, fg = 'black', bg = 'grey89', command = lambda: entry('sqrt('),font=('calibri',14,'bold'))\n",
    "equal = Button(btn_frame, text= '=', width = 8, height = 5, fg = 'black', bg = 'grey89', command = equal,font=('calibri',14,'bold'))\n"
   ]
  },
  {
   "cell_type": "code",
   "execution_count": 119,
   "id": "d9bce9c5",
   "metadata": {},
   "outputs": [],
   "source": [
    "#setting the location of each button\n",
    "nine.grid(column = 2, row = 0)\n",
    "eight.grid(column = 1, row = 0)\n",
    "seven.grid(column = 0, row = 0)\n",
    "six.grid(column = 2, row = 1)\n",
    "five.grid(column = 1, row = 1)\n",
    "four.grid(column = 0, row = 1)\n",
    "three.grid(column = 2, row = 2)\n",
    "two.grid(column = 1, row = 2)\n",
    "one.grid(column = 0, row = 2)\n",
    "zero.grid(column = 0,row = 3)\n",
    "dzero.grid(column = 1,row = 3)\n",
    "add.grid(column = 3, row = 2)\n",
    "sub.grid(column = 4, row = 2)\n",
    "mul.grid(column = 3, row = 1)\n",
    "div.grid(column = 4, row = 1)\n",
    "clear.grid(column = 4, row = 0)\n",
    "dele.grid(column = 3, row =0 )\n",
    "dot.grid(column = 2, row = 3)\n",
    "sin_but.grid(column = 5, row = 0)\n",
    "cos_but.grid(column = 6, row = 0)\n",
    "tan_but.grid(column = 7, row = 0)\n",
    "ceil_but.grid(column = 0, row = 4)\n",
    "floor_but.grid(column = 1, row = 4)\n",
    "radian_but.grid(column = 2, row = 4)\n",
    "degree_but.grid(column = 3, row = 4)\n",
    "log10_but.grid(column = 4, row = 4)\n",
    "lbrace.grid(column = 5, row = 4)\n",
    "rbrace.grid(column = 6, row = 4)\n",
    "asin_but.grid(column = 5, row = 1)\n",
    "acos_but.grid(column = 6, row = 1)\n",
    "atan_but.grid(column = 7, row = 1)\n",
    "perct.grid(column = 3, row = 3)\n",
    "sinh_but.grid(column = 5, row = 2)\n",
    "cosh_but.grid(column = 6, row = 2)\n",
    "tanh_but.grid(column = 7, row = 2)\n",
    "expo.grid(column = 4, row = 3)\n",
    "log_but.grid(column = 6, row = 3)\n",
    "sqrt_but.grid(column = 5, row = 3)\n",
    "equal.grid(column = 7, row = 3, rowspan = 2)"
   ]
  },
  {
   "cell_type": "code",
   "execution_count": 120,
   "id": "0725b167",
   "metadata": {},
   "outputs": [],
   "source": [
    "calc.mainloop()"
   ]
  },
  {
   "cell_type": "code",
   "execution_count": null,
   "id": "dd0c0af5",
   "metadata": {},
   "outputs": [],
   "source": []
  }
 ],
 "metadata": {
  "kernelspec": {
   "display_name": "Python 3 (ipykernel)",
   "language": "python",
   "name": "python3"
  },
  "language_info": {
   "codemirror_mode": {
    "name": "ipython",
    "version": 3
   },
   "file_extension": ".py",
   "mimetype": "text/x-python",
   "name": "python",
   "nbconvert_exporter": "python",
   "pygments_lexer": "ipython3",
   "version": "3.9.12"
  }
 },
 "nbformat": 4,
 "nbformat_minor": 5
}
